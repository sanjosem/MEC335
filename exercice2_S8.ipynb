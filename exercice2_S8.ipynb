{
 "cells": [
  {
   "cell_type": "code",
   "execution_count": 1,
   "metadata": {},
   "outputs": [],
   "source": [
    "from scipy.optimize import fsolve,root\n",
    "from numpy import pi,log10"
   ]
  },
  {
   "cell_type": "code",
   "execution_count": 2,
   "metadata": {},
   "outputs": [],
   "source": [
    "def smooth_pipe(Red):\n",
    "    def res(x):\n",
    "        res = x**(-0.5) - 2.0*log10(Red*x**0.5)+0.8\n",
    "        return res\n",
    "    sol = root(res,0.005)\n",
    "    return sol.x[0]"
   ]
  },
  {
   "cell_type": "code",
   "execution_count": 3,
   "metadata": {},
   "outputs": [],
   "source": [
    "Q = 0.35\n",
    "hL = 20\n",
    "rho = 1.145\n",
    "mu = 1.895e-5\n",
    "L = 150\n",
    "g=9.81"
   ]
  },
  {
   "cell_type": "code",
   "execution_count": 4,
   "metadata": {},
   "outputs": [],
   "source": [
    "def syst(x):\n",
    "    # x = [D,V,f]\n",
    "    return [ x[1] - 4*Q/(pi*x[0]**2),\n",
    "             x[2] - smooth_pipe(rho*x[0]*x[1]/mu),\n",
    "             hL - x[2] * L/x[0] * x[1]**2/(2*g)]"
   ]
  },
  {
   "cell_type": "code",
   "execution_count": 5,
   "metadata": {},
   "outputs": [
    {
     "name": "stdout",
     "output_type": "stream",
     "text": [
      "0.05 178.25353626292275 538523.2164143709 0.01298444451992609\n"
     ]
    }
   ],
   "source": [
    "D0 = 0.05\n",
    "V0 = 4*Q/(pi*D0**2)\n",
    "Red0 = rho*V0*D0/mu\n",
    "f0 = smooth_pipe(Red0)\n",
    "print(D0,V0,Red0,f0)"
   ]
  },
  {
   "cell_type": "code",
   "execution_count": 6,
   "metadata": {},
   "outputs": [
    {
     "name": "stderr",
     "output_type": "stream",
     "text": [
      "<ipython-input-2-36a815aee0b8>:3: RuntimeWarning: invalid value encountered in log10\n",
      "  res = x**(-0.5) - 2.0*log10(Red*x**0.5)+0.8\n"
     ]
    }
   ],
   "source": [
    "sol_D_V_f = fsolve(syst, [D0,V0,f0])"
   ]
  },
  {
   "cell_type": "code",
   "execution_count": 7,
   "metadata": {},
   "outputs": [
    {
     "data": {
      "text/plain": [
       "array([0.26726854, 6.2385331 , 0.01796473])"
      ]
     },
     "execution_count": 7,
     "metadata": {},
     "output_type": "execute_result"
    }
   ],
   "source": [
    "sol_D_V_f"
   ]
  },
  {
   "cell_type": "code",
   "execution_count": 8,
   "metadata": {},
   "outputs": [
    {
     "name": "stdout",
     "output_type": "stream",
     "text": [
      "D= 0.267268538950999 m\n",
      "ReD= 100745.7178680875\n",
      "f(ReD)= 0.0179647265747935\n"
     ]
    }
   ],
   "source": [
    "print('D=',sol_D_V_f[0],'m')\n",
    "print('ReD=',rho*sol_D_V_f[0]*sol_D_V_f[1]/mu)\n",
    "print('f(ReD)=',sol_D_V_f[-1])"
   ]
  }
 ],
 "metadata": {
  "kernelspec": {
   "display_name": "Python 3",
   "language": "python",
   "name": "python3"
  },
  "language_info": {
   "codemirror_mode": {
    "name": "ipython",
    "version": 3
   },
   "file_extension": ".py",
   "mimetype": "text/x-python",
   "name": "python",
   "nbconvert_exporter": "python",
   "pygments_lexer": "ipython3",
   "version": "3.8.8"
  }
 },
 "nbformat": 4,
 "nbformat_minor": 4
}
