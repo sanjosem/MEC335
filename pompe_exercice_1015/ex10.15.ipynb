{
 "cells": [
  {
   "cell_type": "code",
   "execution_count": 14,
   "metadata": {},
   "outputs": [],
   "source": [
    "%matplotlib widget\n",
    "import numpy as np\n",
    "import matplotlib.pyplot as plt"
   ]
  },
  {
   "cell_type": "markdown",
   "metadata": {},
   "source": [
    "Settings for nice plot"
   ]
  },
  {
   "cell_type": "code",
   "execution_count": 15,
   "metadata": {},
   "outputs": [],
   "source": [
    "SMALL_SIZE = 14\n",
    "MEDIUM_SIZE = SMALL_SIZE+2\n",
    "BIGGER_SIZE = MEDIUM_SIZE+2\n",
    "\n",
    "plt.rcParams['font.size']      = SMALL_SIZE\n",
    "plt.rcParams['legend.fontsize'] = SMALL_SIZE\n",
    "plt.rcParams['axes.titlesize'] = MEDIUM_SIZE\n",
    "plt.rcParams['axes.labelsize'] = SMALL_SIZE\n",
    "plt.rcParams['xtick.labelsize'] = SMALL_SIZE\n",
    "plt.rcParams['ytick.labelsize'] = SMALL_SIZE\n",
    "plt.rcParams['figure.titlesize'] = BIGGER_SIZE\n",
    "\n",
    "plt.rcParams['figure.dpi']     = 96\n",
    "#plt.rcParams['figure.figsize'] = (12.5,10)\n",
    "plt.rcParams['figure.subplot.right'] = 0.98\n",
    "plt.rcParams['figure.subplot.top'] = 0.95\n",
    "plt.rcParams['figure.subplot.left'] = 0.12\n",
    "plt.rcParams['figure.subplot.bottom'] = 0.09\n",
    "\n",
    "plt.rcParams['lines.linewidth'] = 2.0"
   ]
  },
  {
   "cell_type": "code",
   "execution_count": 16,
   "metadata": {},
   "outputs": [],
   "source": [
    "single_pump = np.loadtxt('hp.csv',delimiter=',')"
   ]
  },
  {
   "cell_type": "code",
   "execution_count": 25,
   "metadata": {},
   "outputs": [],
   "source": [
    "def hsyst(Q,f):\n",
    "    alpha=(f*300/0.1+10.53+1)*8/(np.pi**2*0.1**2*9.81)\n",
    "    print('alpha:',alpha)\n",
    "    return alpha*Q**2+40"
   ]
  },
  {
   "cell_type": "code",
   "execution_count": 27,
   "metadata": {},
   "outputs": [
    {
     "data": {
      "application/vnd.jupyter.widget-view+json": {
       "model_id": "683e2303d5e241e6b2d3964b8d24767b",
       "version_major": 2,
       "version_minor": 0
      },
      "text/plain": [
       "Canvas(toolbar=Toolbar(toolitems=[('Home', 'Reset original view', 'home', 'home'), ('Back', 'Back to previous …"
      ]
     },
     "metadata": {},
     "output_type": "display_data"
    },
    {
     "name": "stdout",
     "output_type": "stream",
     "text": [
      "alpha: 559.7648875307405\n"
     ]
    }
   ],
   "source": [
    "plt.plot(single_pump[:,0],single_pump[:,1],label='pompe seule')\n",
    "plt.plot(single_pump[:,0],2*single_pump[:,1],label='pompe en serie')\n",
    "plt.plot(single_pump[:,0],hsyst(single_pump[:,0]/60,0.018738706231646928),label='systeme')\n",
    "plt.ylim(0,70)\n",
    "plt.grid()\n",
    "plt.legend()\n",
    "plt.show()"
   ]
  },
  {
   "cell_type": "code",
   "execution_count": 31,
   "metadata": {},
   "outputs": [
    {
     "name": "stdout",
     "output_type": "stream",
     "text": [
      "0.20886666666666667 26.593729957701765 182148.83532672442\n"
     ]
    }
   ],
   "source": [
    "Q1=12.532/60.\n",
    "V1 = 4*Q1/(np.pi*0.1**2)\n",
    "ReD=V1*0.1/(1.46e-5)\n",
    "print(Q1,V1,ReD)"
   ]
  },
  {
   "cell_type": "code",
   "execution_count": 29,
   "metadata": {},
   "outputs": [],
   "source": [
    "def colebrook(f0,Red,Ed):\n",
    "    from scipy.optimize import fsolve\n",
    "    def res(f):\n",
    "        return 1/f**0.5+2.0*np.log10(Ed/3.7 + 2.51/(Red*f**0.5))\n",
    "    f = fsolve(res,f0)\n",
    "    return f[0]"
   ]
  },
  {
   "cell_type": "code",
   "execution_count": 30,
   "metadata": {},
   "outputs": [
    {
     "data": {
      "text/plain": [
       "0.018733807932779567"
      ]
     },
     "execution_count": 30,
     "metadata": {},
     "output_type": "execute_result"
    }
   ],
   "source": [
    "colebrook(0.02,ReD,0.00045)"
   ]
  },
  {
   "cell_type": "code",
   "execution_count": 9,
   "metadata": {},
   "outputs": [
    {
     "name": "stdout",
     "output_type": "stream",
     "text": [
      "560.9285433051115\n"
     ]
    }
   ],
   "source": [
    "alpha = (0.018785650442193574*300/0.1+10.53+1)*8/(9.81*np.pi**2*0.1**2)\n",
    "print(alpha)"
   ]
  },
  {
   "cell_type": "code",
   "execution_count": 26,
   "metadata": {},
   "outputs": [],
   "source": [
    "plt.close('all')"
   ]
  }
 ],
 "metadata": {
  "kernelspec": {
   "display_name": "Python 3",
   "language": "python",
   "name": "python3"
  },
  "language_info": {
   "codemirror_mode": {
    "name": "ipython",
    "version": 3
   },
   "file_extension": ".py",
   "mimetype": "text/x-python",
   "name": "python",
   "nbconvert_exporter": "python",
   "pygments_lexer": "ipython3",
   "version": "3.8.5"
  }
 },
 "nbformat": 4,
 "nbformat_minor": 4
}
