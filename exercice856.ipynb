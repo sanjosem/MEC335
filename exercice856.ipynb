{
 "cells": [
  {
   "cell_type": "markdown",
   "metadata": {},
   "source": [
    "## Exercice 3.56"
   ]
  },
  {
   "cell_type": "code",
   "execution_count": 4,
   "metadata": {},
   "outputs": [],
   "source": [
    "import numpy as np"
   ]
  },
  {
   "cell_type": "code",
   "execution_count": 1,
   "metadata": {},
   "outputs": [],
   "source": [
    "def fully_rough_flow(eps_d):\n",
    "    ed = np.asarray(eps_d)\n",
    "    val = -2 * np.log10(ed/3.7)\n",
    "    cf = (1/val)**2\n",
    "    return cf"
   ]
  },
  {
   "cell_type": "code",
   "execution_count": 6,
   "metadata": {},
   "outputs": [],
   "source": [
    "def colebrook(Red,eps_d):\n",
    "    from scipy.optimize import root\n",
    "    mRed = np.asarray(Red)\n",
    "    def res(x):\n",
    "        res = x**(-0.5) + 2.0*np.log10(eps_d/3.7+ 2.51/(mRed*x**0.5))\n",
    "        return res\n",
    "    sol = root(res,fully_rough_flow(eps_d)*np.ones_like(mRed))\n",
    "    return sol.x"
   ]
  },
  {
   "cell_type": "code",
   "execution_count": 5,
   "metadata": {},
   "outputs": [
    {
     "name": "stdout",
     "output_type": "stream",
     "text": [
      "f_rough= 0.04368954749650075\n"
     ]
    }
   ],
   "source": [
    "eps_d = 0.015\n",
    "print('f_rough=',fully_rough_flow(eps_d))"
   ]
  },
  {
   "cell_type": "code",
   "execution_count": 7,
   "metadata": {},
   "outputs": [
    {
     "name": "stdout",
     "output_type": "stream",
     "text": [
      "f_colebrook= [0.05362452]\n"
     ]
    }
   ],
   "source": [
    "Red = 3767\n",
    "print('f_colebrook=',colebrook(Red,eps_d))"
   ]
  }
 ],
 "metadata": {
  "kernelspec": {
   "display_name": "Python 3",
   "language": "python",
   "name": "python3"
  },
  "language_info": {
   "codemirror_mode": {
    "name": "ipython",
    "version": 3
   },
   "file_extension": ".py",
   "mimetype": "text/x-python",
   "name": "python",
   "nbconvert_exporter": "python",
   "pygments_lexer": "ipython3",
   "version": "3.8.5"
  }
 },
 "nbformat": 4,
 "nbformat_minor": 4
}
