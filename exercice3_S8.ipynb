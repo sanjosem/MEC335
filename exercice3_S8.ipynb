{
 "cells": [
  {
   "cell_type": "code",
   "execution_count": 1,
   "metadata": {},
   "outputs": [],
   "source": [
    "from scipy.optimize import fsolve,root\n",
    "from numpy import pi,log10"
   ]
  },
  {
   "cell_type": "code",
   "execution_count": 2,
   "metadata": {},
   "outputs": [],
   "source": [
    "def smooth_pipe(Red):\n",
    "    def res(x):\n",
    "        res = x**(-0.5) - 2.0*log10(Red*x**0.5)+0.8\n",
    "        return res\n",
    "    sol = root(res,0.005)\n",
    "    return sol.x[0]"
   ]
  },
  {
   "cell_type": "code",
   "execution_count": 3,
   "metadata": {},
   "outputs": [],
   "source": [
    "hL = 20\n",
    "rho = 1.145\n",
    "mu = 1.895e-5\n",
    "L = 300\n",
    "g=9.81\n",
    "D=0.267"
   ]
  },
  {
   "cell_type": "code",
   "execution_count": 4,
   "metadata": {},
   "outputs": [],
   "source": [
    "def syst(x):\n",
    "    # x = [V,f]\n",
    "    return [ x[1] - smooth_pipe(rho*D*x[0]/mu),\n",
    "             hL - x[1] * L/D * x[0]**2/(2*g)]"
   ]
  },
  {
   "cell_type": "code",
   "execution_count": 5,
   "metadata": {},
   "outputs": [
    {
     "name": "stdout",
     "output_type": "stream",
     "text": [
      "10.0 161327.17678100264 0.016318755543601966\n"
     ]
    }
   ],
   "source": [
    "V0 = 10.\n",
    "Q0 = pi*D**2*V0/4\n",
    "Red0 = rho*V0*D/mu\n",
    "f0 = smooth_pipe(Red0)\n",
    "print(V0,Red0,f0)"
   ]
  },
  {
   "cell_type": "code",
   "execution_count": 6,
   "metadata": {},
   "outputs": [],
   "source": [
    "sol_D_V_f = fsolve(syst, [V0,f0])"
   ]
  },
  {
   "cell_type": "code",
   "execution_count": 7,
   "metadata": {},
   "outputs": [
    {
     "data": {
      "text/plain": [
       "array([4.2304211 , 0.01951425])"
      ]
     },
     "execution_count": 7,
     "metadata": {},
     "output_type": "execute_result"
    }
   ],
   "source": [
    "sol_D_V_f"
   ]
  },
  {
   "cell_type": "code",
   "execution_count": 8,
   "metadata": {},
   "outputs": [
    {
     "name": "stdout",
     "output_type": "stream",
     "text": [
      "V= 4.230421095237686 m/s\n",
      "ReD= 68248.1891889493\n",
      "f(ReD)= 0.019514247422291037\n",
      "Q= 0.23686233333345721\n"
     ]
    }
   ],
   "source": [
    "print('V=',sol_D_V_f[0],'m/s')\n",
    "print('ReD=',rho*sol_D_V_f[0]*D/mu)\n",
    "print('f(ReD)=',sol_D_V_f[-1])\n",
    "print('Q=',sol_D_V_f[0]*pi*D**2/4)"
   ]
  }
 ],
 "metadata": {
  "kernelspec": {
   "display_name": "Python 3",
   "language": "python",
   "name": "python3"
  },
  "language_info": {
   "codemirror_mode": {
    "name": "ipython",
    "version": 3
   },
   "file_extension": ".py",
   "mimetype": "text/x-python",
   "name": "python",
   "nbconvert_exporter": "python",
   "pygments_lexer": "ipython3",
   "version": "3.8.8"
  }
 },
 "nbformat": 4,
 "nbformat_minor": 4
}
