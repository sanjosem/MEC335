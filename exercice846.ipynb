{
 "cells": [
  {
   "cell_type": "code",
   "execution_count": 6,
   "metadata": {},
   "outputs": [],
   "source": [
    "def smooth_pipe(Red):\n",
    "    from scipy.optimize import root\n",
    "    from numpy import log10\n",
    "    def res(x):\n",
    "        res = x**(-0.5) - 2.0*log10(Red*x**0.5)+0.8\n",
    "        return res\n",
    "    sol = root(res,0.005)\n",
    "    return sol.x[0]"
   ]
  },
  {
   "cell_type": "code",
   "execution_count": 3,
   "metadata": {},
   "outputs": [],
   "source": [
    "from numpy import pi"
   ]
  },
  {
   "cell_type": "code",
   "execution_count": 4,
   "metadata": {},
   "outputs": [
    {
     "name": "stdout",
     "output_type": "stream",
     "text": [
      "2.3578510087688196 631567.234491648\n"
     ]
    }
   ],
   "source": [
    "Q = 10./60\n",
    "D = 30e-2\n",
    "V = 4*Q/(pi*D**2)\n",
    "nu = 1.12e-6\n",
    "ReD = V*D/nu\n",
    "print(V,ReD)"
   ]
  },
  {
   "cell_type": "code",
   "execution_count": 8,
   "metadata": {},
   "outputs": [],
   "source": [
    "f = smooth_pipe(ReD)"
   ]
  },
  {
   "cell_type": "code",
   "execution_count": 9,
   "metadata": {},
   "outputs": [
    {
     "name": "stdout",
     "output_type": "stream",
     "text": [
      "29.798155263863713\n"
     ]
    }
   ],
   "source": [
    "L = 2500\n",
    "hL = f * L/D * V**2/(2*9.81)\n",
    "print(hL)"
   ]
  },
  {
   "cell_type": "code",
   "execution_count": 10,
   "metadata": {},
   "outputs": [
    {
     "name": "stdout",
     "output_type": "stream",
     "text": [
      "152159.97847522292\n"
     ]
    }
   ],
   "source": [
    "H = 40\n",
    "eta = 0.75\n",
    "gm = 1000*9.81\n",
    "Wm = gm*Q*(hL+H)/eta\n",
    "print(Wm)"
   ]
  }
 ],
 "metadata": {
  "kernelspec": {
   "display_name": "Python 3",
   "language": "python",
   "name": "python3"
  },
  "language_info": {
   "codemirror_mode": {
    "name": "ipython",
    "version": 3
   },
   "file_extension": ".py",
   "mimetype": "text/x-python",
   "name": "python",
   "nbconvert_exporter": "python",
   "pygments_lexer": "ipython3",
   "version": "3.8.8"
  }
 },
 "nbformat": 4,
 "nbformat_minor": 4
}
